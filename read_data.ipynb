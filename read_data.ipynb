{
 "cells": [
  {
   "cell_type": "code",
   "execution_count": null,
   "metadata": {},
   "outputs": [
    {
     "name": "stdout",
     "output_type": "stream",
     "text": [
      "Protein ID: non-allergen_3154\n",
      "Sequence: MAAHTILASAPSHTTFSLISPFSSTPTNALSSSLQSSSFNGLSFKLSPTTQSLSLSTSAASKPLTIVAATKKAVAVLKGTSNVEGVVTLTQEDDGPTTVNVRISGLAPGKHGFHLHEFGDTTNGCMSTGPHFNPDKKTHGAPEDEVRHAGDLGNIVANTDGVAEATIVDNQIPLTGPNSVVGRALVVHELEDDLGKGGHELSPTTGNAGGRLACGVVGLTPV\n",
      "\n",
      "Protein ID: non-allergen_2914\n",
      "Sequence: MAQFLRLCIWLLALGSCLLATVQADCSQDCAKCSYRLVRPGDINFLACTLECEGQLPSFKIWETCKDLLQVSKPEFPWDNIDMYKDSSKQDESHLLAKKYGGFMKRYGGFMKKMDELYPVEPEEEANGGEILAKRYGGFMKKDADEGDTLANSSDLLKELLGTGDNRAKDSHQQESTNNDEDSTSKRYGGFMRGLKRSPQLEDEAKELQKRYGGFMRRVGRPEWWMDYQKRYGGFLKRFAESLPSDEEGESYSKEVPEMEKRYGGFMRF\n",
      "\n",
      "Protein ID: non-allergen_19622\n",
      "Sequence: MSSTTQAPEPVYQWTADEAVQFLKEWNFSLGIILLFITIILQFGYTSRSMFIYVVKMIILWLMWPLTIVLCIFNCVYALNNVYLGFSIVFTIVSIVIWIMYFVNSIRLFIRTGSWWSFNPETNNLMCIDMKGTVYVRPIIEDYHTLTATIIRGHLYMQGVKLGTGFSLSDLPAYVTVAKVSHLCTYKRAFLDKVDGVSGFAVYVKSKVGNYRLPSNKPSGADTALLRI\n",
      "\n",
      "Protein ID: allergen_2182\n",
      "Sequence: MSWQAYVDDHLMCEIEGTNNHLTAAAILGVDGSVWAQSANFPQFKPDEISAVVKEFDEAGTLAPTGLHLGGTKYMVIQSEAGQVIRGKKGPGGICVKKTGQALIFGIYDEPVTPGQCNMIVERLGDYLIEQGL\n",
      "\n",
      "Protein ID: non-allergen_40251\n",
      "Sequence: MNLFVYIAQNPTLTKWFFCCVCTILTMPFFKKPYRKRGISRTPYEWLTYADKCVIELSKSELKPNEEKELPKDIKEDCKTVEEKEKVVPRKPLQSEGINEDDSQKNGELIVLHGINHQAAMLTACGLFMVTSSNTNKWKIAFASFLLGMFFTQFGFQKSERSINAEKLESIEKPENDN\n",
      "\n"
     ]
    }
   ],
   "source": [
    "from Bio import SeqIO\n",
    "\n",
    "def read_fasta(file_path):\n",
    "    sequences = {}\n",
    "    for record in SeqIO.parse(file_path, \"fasta\"):\n",
    "        sequences[record.id] = str(record.seq)\n",
    "    return sequences\n",
    "\n",
    "train_sequences = read_fasta(\"Dataset/all.train.fasta\")\n",
    "test_sequences = read_fasta(\"Dataset/all.test.fasta\")\n",
    "\n",
    "for key, value in list(train_sequences.items())[:5]:\n",
    "    print(f\"Protein ID: {key}\\nSequence: {value}\\n\")"
   ]
  },
  {
   "cell_type": "code",
   "execution_count": 4,
   "metadata": {},
   "outputs": [
    {
     "name": "stdout",
     "output_type": "stream",
     "text": [
      "           Protein_ID                                           Sequence   \n",
      "0   non-allergen_3154  MAAHTILASAPSHTTFSLISPFSSTPTNALSSSLQSSSFNGLSFKL...  \\\n",
      "1   non-allergen_2914  MAQFLRLCIWLLALGSCLLATVQADCSQDCAKCSYRLVRPGDINFL...   \n",
      "2  non-allergen_19622  MSSTTQAPEPVYQWTADEAVQFLKEWNFSLGIILLFITIILQFGYT...   \n",
      "3       allergen_2182  MSWQAYVDDHLMCEIEGTNNHLTAAAILGVDGSVWAQSANFPQFKP...   \n",
      "4  non-allergen_40251  MNLFVYIAQNPTLTKWFFCCVCTILTMPFFKKPYRKRGISRTPYEW...   \n",
      "\n",
      "   Label  \n",
      "0      0  \n",
      "1      0  \n",
      "2      0  \n",
      "3      1  \n",
      "4      0  \n"
     ]
    }
   ],
   "source": [
    "from Bio import SeqIO\n",
    "import pandas as pd\n",
    "\n",
    "def read_fasta_with_labels(file_path):\n",
    "    data = []\n",
    "    \n",
    "    for record in SeqIO.parse(file_path, \"fasta\"):\n",
    "        protein_id = record.id\n",
    "\n",
    "        sequence = str(record.seq)\n",
    "\n",
    "        label = 0 if \"non-allergen\" in protein_id else 1\n",
    "        \n",
    "        data.append([protein_id, sequence, label])\n",
    "\n",
    "    df = pd.DataFrame(data, columns=[\"Protein_ID\", \"Sequence\", \"Label\"])\n",
    "    \n",
    "    return df\n",
    "\n",
    "train_df = read_fasta_with_labels(\"Dataset/all.train.fasta\")\n",
    "test_df = read_fasta_with_labels(\"Dataset/all.test.fasta\")\n",
    "\n",
    "print(train_df.head())"
   ]
  },
  {
   "cell_type": "code",
   "execution_count": 5,
   "metadata": {},
   "outputs": [
    {
     "name": "stdout",
     "output_type": "stream",
     "text": [
      "           Protein_ID                                 Tokenized_Sequence   \n",
      "0   non-allergen_3154  M A A H T I L A S A P S H T T F S L I S P F S ...  \\\n",
      "1   non-allergen_2914  M A Q F L R L C I W L L A L G S C L L A T V Q ...   \n",
      "2  non-allergen_19622  M S S T T Q A P E P V Y Q W T A D E A V Q F L ...   \n",
      "3       allergen_2182  M S W Q A Y V D D H L M C E I E G T N N H L T ...   \n",
      "4  non-allergen_40251  M N L F V Y I A Q N P T L T K W F F C C V C T ...   \n",
      "\n",
      "   Label  \n",
      "0      0  \n",
      "1      0  \n",
      "2      0  \n",
      "3      1  \n",
      "4      0  \n"
     ]
    }
   ],
   "source": [
    "train_df[\"Tokenized_Sequence\"] = train_df[\"Sequence\"].apply(lambda x: \" \".join(list(x)))\n",
    "test_df[\"Tokenized_Sequence\"] = test_df[\"Sequence\"].apply(lambda x: \" \".join(list(x)))\n",
    "\n",
    "print(train_df[[\"Protein_ID\", \"Tokenized_Sequence\", \"Label\"]].head())"
   ]
  },
  {
   "cell_type": "code",
   "execution_count": 6,
   "metadata": {},
   "outputs": [],
   "source": [
    "train_df.to_csv(\"Dataset/processed_for_bert_train.csv\", index=False)\n",
    "test_df.to_csv(\"Dataset/processed_for_bert_test.csv\", index=False)"
   ]
  },
  {
   "cell_type": "code",
   "execution_count": 7,
   "metadata": {},
   "outputs": [
    {
     "name": "stderr",
     "output_type": "stream",
     "text": [
      "/opt/homebrew/Caskroom/miniconda/base/envs/protein_allergy/lib/python3.9/site-packages/tqdm/auto.py:21: TqdmWarning: IProgress not found. Please update jupyter and ipywidgets. See https://ipywidgets.readthedocs.io/en/stable/user_install.html\n",
      "  from .autonotebook import tqdm as notebook_tqdm\n"
     ]
    },
    {
     "name": "stdout",
     "output_type": "stream",
     "text": [
      "ProtBERT Model Loaded\n"
     ]
    }
   ],
   "source": [
    "import torch\n",
    "from transformers import BertTokenizer, BertModel\n",
    "\n",
    "# ProtBERT tokenizer & model\n",
    "tokenizer = BertTokenizer.from_pretrained(\"Rostlab/prot_bert\", do_lower_case=False)\n",
    "model = BertModel.from_pretrained(\"Rostlab/prot_bert\")\n",
    "\n",
    "# maybe we need to use colab\n",
    "# device = torch.device(\"cuda\" if torch.cuda.is_available() else \"cpu\")\n",
    "# model = model.to(device)\n",
    "\n",
    "print(\"ProtBERT Model Loaded\")"
   ]
  },
  {
   "cell_type": "code",
   "execution_count": 8,
   "metadata": {},
   "outputs": [],
   "source": [
    "def get_protbert_embeddings(sequence):\n",
    "\n",
    "    inputs = tokenizer(sequence, return_tensors=\"pt\", padding=True, truncation=True)\n",
    "\n",
    "    inputs = {key: value for key, value in inputs.items()}\n",
    "\n",
    "    with torch.no_grad():\n",
    "        outputs = model(**inputs)\n",
    "    \n",
    "    # last hidden layer (shape: [1, sequence_length, 1024])\n",
    "    last_hidden_state = outputs.last_hidden_state\n",
    "\n",
    "    embedding = last_hidden_state.mean(dim=1).squeeze().cpu().numpy()\n",
    "\n",
    "    return embedding  # Shape: (1024,)"
   ]
  },
  {
   "cell_type": "code",
   "execution_count": 9,
   "metadata": {},
   "outputs": [
    {
     "name": "stderr",
     "output_type": "stream",
     "text": [
      "  0%|          | 0/5680 [00:00<?, ?it/s]Asking to truncate to max_length but no maximum length is provided and the model has no predefined maximum length. Default to no truncation.\n",
      "100%|██████████| 5680/5680 [45:25<00:00,  2.08it/s]  "
     ]
    },
    {
     "name": "stdout",
     "output_type": "stream",
     "text": [
      "ProtBERT embeddings Shape: (5680, 1024)\n"
     ]
    },
    {
     "name": "stderr",
     "output_type": "stream",
     "text": [
      "\n"
     ]
    }
   ],
   "source": [
    "import numpy as np\n",
    "from tqdm import tqdm\n",
    "\n",
    "train_df[\"Tokenized_Sequence\"] = train_df[\"Sequence\"].apply(lambda x: \" \".join(list(x)))\n",
    "\n",
    "embeddings = []\n",
    "\n",
    "for seq in tqdm(train_df[\"Tokenized_Sequence\"]):\n",
    "    emb = get_protbert_embeddings(seq)\n",
    "    embeddings.append(emb)\n",
    "\n",
    "embeddings_array = np.array(embeddings)\n",
    "\n",
    "np.save(\"protbert_train_embeddings.npy\", embeddings_array)\n",
    "\n",
    "print(\"ProtBERT embeddings Shape:\", embeddings_array.shape)"
   ]
  },
  {
   "cell_type": "code",
   "execution_count": 10,
   "metadata": {},
   "outputs": [
    {
     "name": "stdout",
     "output_type": "stream",
     "text": [
      "Embeddings saved\n"
     ]
    }
   ],
   "source": [
    "embedding_df = pd.DataFrame(embeddings_array)\n",
    "embedding_df[\"Label\"] = train_df[\"Label\"]  \n",
    "\n",
    "embedding_df.to_csv(\"Dataset/protbert_train_embeddings.csv\", index=False)\n",
    "print(\"Embeddings saved\")"
   ]
  },
  {
   "cell_type": "code",
   "execution_count": 11,
   "metadata": {},
   "outputs": [
    {
     "name": "stdout",
     "output_type": "stream",
     "text": [
      "          0         1         2         3         4         5         6   \n",
      "0  0.086905  0.064474 -0.012450 -0.037899  0.003578 -0.016869  0.031366  \\\n",
      "1  0.067527 -0.009051 -0.007344 -0.038439  0.023209  0.011579  0.001814   \n",
      "2  0.106294  0.020479  0.037305  0.009191  0.064401  0.007766  0.004668   \n",
      "3  0.010107  0.028703 -0.031847 -0.042281  0.062848 -0.029239  0.010851   \n",
      "4  0.003830 -0.030011  0.043521 -0.019920 -0.036928 -0.006020 -0.007284   \n",
      "\n",
      "          7         8         9  ...      1015      1016      1017      1018   \n",
      "0  0.044413 -0.022268 -0.013294  ...  0.014594  0.015101 -0.033381 -0.023159  \\\n",
      "1  0.032845  0.027436  0.008903  ... -0.005045  0.034608 -0.091185 -0.030919   \n",
      "2  0.011003  0.040737 -0.009711  ... -0.004814  0.022652  0.000608 -0.045922   \n",
      "3  0.019762  0.009444  0.031312  ...  0.020512  0.035028 -0.004533 -0.044993   \n",
      "4 -0.016183 -0.008275  0.007242  ...  0.031610 -0.044113 -0.031392  0.020649   \n",
      "\n",
      "       1019      1020      1021      1022      1023  Label  \n",
      "0 -0.003469 -0.073165 -0.049568  0.002033  0.016894      0  \n",
      "1 -0.043191 -0.052509 -0.061765  0.025321  0.001051      0  \n",
      "2 -0.037261 -0.057934 -0.036676 -0.045970 -0.019217      0  \n",
      "3 -0.049837 -0.053299 -0.055925 -0.010627  0.023868      1  \n",
      "4  0.007634  0.008333  0.009560 -0.002700  0.064265      0  \n",
      "\n",
      "[5 rows x 1025 columns]\n"
     ]
    }
   ],
   "source": [
    "print(embedding_df.head())"
   ]
  },
  {
   "cell_type": "code",
   "execution_count": 12,
   "metadata": {},
   "outputs": [
    {
     "name": "stdout",
     "output_type": "stream",
     "text": [
      "(5680, 1025)\n"
     ]
    }
   ],
   "source": [
    "print(embedding_df.shape)"
   ]
  },
  {
   "cell_type": "code",
   "execution_count": 13,
   "metadata": {},
   "outputs": [
    {
     "name": "stdout",
     "output_type": "stream",
     "text": [
      "0        0.086905\n",
      "1        0.064474\n",
      "2       -0.012450\n",
      "3       -0.037899\n",
      "4        0.003578\n",
      "           ...   \n",
      "1020    -0.073165\n",
      "1021    -0.049568\n",
      "1022     0.002033\n",
      "1023     0.016894\n",
      "Label    0.000000\n",
      "Name: 0, Length: 1025, dtype: float64\n"
     ]
    }
   ],
   "source": [
    "print(embedding_df.iloc[0])"
   ]
  },
  {
   "cell_type": "code",
   "execution_count": 14,
   "metadata": {},
   "outputs": [
    {
     "name": "stdout",
     "output_type": "stream",
     "text": [
      "0       0.086905\n",
      "1       0.064474\n",
      "2      -0.012450\n",
      "3      -0.037899\n",
      "4       0.003578\n",
      "          ...   \n",
      "1019   -0.003469\n",
      "1020   -0.073165\n",
      "1021   -0.049568\n",
      "1022    0.002033\n",
      "1023    0.016894\n",
      "Name: 0, Length: 1024, dtype: float64\n"
     ]
    }
   ],
   "source": [
    "print(embedding_df.iloc[0, :-1])"
   ]
  },
  {
   "cell_type": "code",
   "execution_count": 15,
   "metadata": {},
   "outputs": [
    {
     "name": "stdout",
     "output_type": "stream",
     "text": [
      "Label\n",
      "0    2840\n",
      "1    2840\n",
      "Name: count, dtype: int64\n"
     ]
    }
   ],
   "source": [
    "print(embedding_df[\"Label\"].value_counts())"
   ]
  },
  {
   "cell_type": "code",
   "execution_count": 16,
   "metadata": {},
   "outputs": [
    {
     "data": {
      "image/png": "[encoded data removed]",
      "text/plain": [
       "<Figure size 640x480 with 2 Axes>"
      ]
     },
     "metadata": {},
     "output_type": "display_data"
    }
   ],
   "source": [
    "from sklearn.decomposition import PCA\n",
    "import matplotlib.pyplot as plt\n",
    "\n",
    "pca = PCA(n_components=2)\n",
    "reduced_embeddings = pca.fit_transform(embedding_df.iloc[:, :-1])  \n",
    "\n",
    "plt.scatter(reduced_embeddings[:, 0], reduced_embeddings[:, 1], c=embedding_df[\"Label\"], cmap='coolwarm')\n",
    "plt.title(\"PCA of ProtBERT Embeddings\")\n",
    "plt.xlabel(\"PCA Component 1\")\n",
    "plt.ylabel(\"PCA Component 2\")\n",
    "plt.colorbar(label=\"Label\")\n",
    "plt.show()"
   ]
  },
  {
   "cell_type": "code",
   "execution_count": 17,
   "metadata": {},
   "outputs": [
    {
     "name": "stdout",
     "output_type": "stream",
     "text": [
      "      Protein_ID                                 Tokenized_Sequence  Label\n",
      "0  allergen_2145  M V K N L P P S V R E Q C I E S Q I V I R D C ...      1\n",
      "1   allergen_109  M K F F A V L A L C I V G A I A S P L T A D E ...      1\n",
      "2  allergen_2419  M S K A R V Y T D V N V L R P K E Y W D Y E A ...      1\n",
      "3    allergen_12  M A K L V L S L C F L L F S G C C F A F S F R ...      1\n",
      "4   allergen_117  M K I V L A I A S L L A L S A V Y A R P S S I ...      1\n"
     ]
    }
   ],
   "source": [
    "test_df[\"Tokenized_Sequence\"] = test_df[\"Sequence\"].apply(lambda x: \" \".join(list(x)))\n",
    "\n",
    "print(test_df[[\"Protein_ID\", \"Tokenized_Sequence\", \"Label\"]].head())"
   ]
  },
  {
   "cell_type": "code",
   "execution_count": 18,
   "metadata": {},
   "outputs": [
    {
     "name": "stderr",
     "output_type": "stream",
     "text": [
      "100%|██████████| 1420/1420 [12:05<00:00,  1.96it/s]"
     ]
    },
    {
     "name": "stdout",
     "output_type": "stream",
     "text": [
      "ProtBERT embeddings Shape: (5680, 1024)\n"
     ]
    },
    {
     "name": "stderr",
     "output_type": "stream",
     "text": [
      "\n"
     ]
    }
   ],
   "source": [
    "test_df[\"Tokenized_Sequence\"] = test_df[\"Sequence\"].apply(lambda x: \" \".join(list(x)))\n",
    "\n",
    "embeddings_test = []\n",
    "\n",
    "for seq in tqdm(test_df[\"Tokenized_Sequence\"]):\n",
    "    emb = get_protbert_embeddings(seq)\n",
    "    embeddings_test.append(emb)\n",
    "\n",
    "embeddings_array = np.array(embeddings)\n",
    "\n",
    "np.save(\"Dataset/protbert_test_embeddings.npy\", embeddings_array)\n",
    "\n",
    "print(\"ProtBERT embeddings Shape:\", embeddings_array.shape)"
   ]
  },
  {
   "cell_type": "code",
   "execution_count": 25,
   "metadata": {},
   "outputs": [
    {
     "name": "stdout",
     "output_type": "stream",
     "text": [
      "Train Set Label Distribution:\n",
      "Label\n",
      "0    2840\n",
      "1    2840\n",
      "Name: count, dtype: int64\n",
      "\n",
      "Test Set Label Distribution:\n",
      "Label\n",
      "0    2840\n",
      "1    2840\n",
      "Name: count, dtype: int64\n"
     ]
    }
   ],
   "source": [
    "train_label_counts = train_df[\"Label\"].value_counts()\n",
    "print(\"Train Set Label Distribution:\")\n",
    "print(train_label_counts)\n",
    "\n",
    "test_label_counts = test_df[\"Label\"].value_counts()\n",
    "print(\"\\nTest Set Label Distribution:\")\n",
    "print(test_label_counts)"
   ]
  },
  {
   "cell_type": "code",
   "execution_count": 26,
   "metadata": {},
   "outputs": [
    {
     "name": "stdout",
     "output_type": "stream",
     "text": [
      "0 0\n"
     ]
    }
   ],
   "source": [
    "print(train_df.duplicated().sum(), test_df.duplicated().sum())"
   ]
  },
  {
   "cell_type": "code",
   "execution_count": 30,
   "metadata": {},
   "outputs": [
    {
     "name": "stdout",
     "output_type": "stream",
     "text": [
      "Index(['0', '1', '2', '3', '4', '5', '6', '7', '8', '9',\n",
      "       ...\n",
      "       '1015', '1016', '1017', '1018', '1019', '1020', '1021', '1022', '1023',\n",
      "       'Label'],\n",
      "      dtype='object', length=1025)\n",
      "Index(['0', '1', '2', '3', '4', '5', '6', '7', '8', '9',\n",
      "       ...\n",
      "       '1015', '1016', '1017', '1018', '1019', '1020', '1021', '1022', '1023',\n",
      "       'Label'],\n",
      "      dtype='object', length=1025)\n"
     ]
    }
   ],
   "source": [
    "print(train_df.columns)\n",
    "print(test_df.columns)"
   ]
  },
  {
   "cell_type": "code",
   "execution_count": 35,
   "metadata": {},
   "outputs": [
    {
     "data": {
      "text/html": [
       "<div>\n",
       "<style scoped>\n",
       "    .dataframe tbody tr th:only-of-type {\n",
       "        vertical-align: middle;\n",
       "    }\n",
       "\n",
       "    .dataframe tbody tr th {\n",
       "        vertical-align: top;\n",
       "    }\n",
       "\n",
       "    .dataframe thead th {\n",
       "        text-align: right;\n",
       "    }\n",
       "</style>\n",
       "<table border=\"1\" class=\"dataframe\">\n",
       "  <thead>\n",
       "    <tr style=\"text-align: right;\">\n",
       "      <th></th>\n",
       "      <th>0</th>\n",
       "      <th>1</th>\n",
       "      <th>2</th>\n",
       "      <th>3</th>\n",
       "      <th>4</th>\n",
       "      <th>5</th>\n",
       "      <th>6</th>\n",
       "      <th>7</th>\n",
       "      <th>8</th>\n",
       "      <th>9</th>\n",
       "      <th>...</th>\n",
       "      <th>1015</th>\n",
       "      <th>1016</th>\n",
       "      <th>1017</th>\n",
       "      <th>1018</th>\n",
       "      <th>1019</th>\n",
       "      <th>1020</th>\n",
       "      <th>1021</th>\n",
       "      <th>1022</th>\n",
       "      <th>1023</th>\n",
       "      <th>Label</th>\n",
       "    </tr>\n",
       "  </thead>\n",
       "  <tbody>\n",
       "    <tr>\n",
       "      <th>0</th>\n",
       "      <td>0.086905</td>\n",
       "      <td>0.064474</td>\n",
       "      <td>-0.012450</td>\n",
       "      <td>-0.037899</td>\n",
       "      <td>0.003578</td>\n",
       "      <td>-0.016869</td>\n",
       "      <td>0.031366</td>\n",
       "      <td>0.044413</td>\n",
       "      <td>-0.022268</td>\n",
       "      <td>-0.013294</td>\n",
       "      <td>...</td>\n",
       "      <td>0.014594</td>\n",
       "      <td>0.015101</td>\n",
       "      <td>-0.033381</td>\n",
       "      <td>-0.023159</td>\n",
       "      <td>-0.003469</td>\n",
       "      <td>-0.073165</td>\n",
       "      <td>-0.049568</td>\n",
       "      <td>0.002033</td>\n",
       "      <td>0.016894</td>\n",
       "      <td>0</td>\n",
       "    </tr>\n",
       "    <tr>\n",
       "      <th>1</th>\n",
       "      <td>0.067527</td>\n",
       "      <td>-0.009051</td>\n",
       "      <td>-0.007344</td>\n",
       "      <td>-0.038439</td>\n",
       "      <td>0.023209</td>\n",
       "      <td>0.011579</td>\n",
       "      <td>0.001814</td>\n",
       "      <td>0.032845</td>\n",
       "      <td>0.027436</td>\n",
       "      <td>0.008903</td>\n",
       "      <td>...</td>\n",
       "      <td>-0.005045</td>\n",
       "      <td>0.034608</td>\n",
       "      <td>-0.091185</td>\n",
       "      <td>-0.030919</td>\n",
       "      <td>-0.043191</td>\n",
       "      <td>-0.052509</td>\n",
       "      <td>-0.061765</td>\n",
       "      <td>0.025321</td>\n",
       "      <td>0.001051</td>\n",
       "      <td>0</td>\n",
       "    </tr>\n",
       "    <tr>\n",
       "      <th>2</th>\n",
       "      <td>0.106294</td>\n",
       "      <td>0.020479</td>\n",
       "      <td>0.037305</td>\n",
       "      <td>0.009191</td>\n",
       "      <td>0.064401</td>\n",
       "      <td>0.007766</td>\n",
       "      <td>0.004668</td>\n",
       "      <td>0.011003</td>\n",
       "      <td>0.040737</td>\n",
       "      <td>-0.009711</td>\n",
       "      <td>...</td>\n",
       "      <td>-0.004814</td>\n",
       "      <td>0.022652</td>\n",
       "      <td>0.000608</td>\n",
       "      <td>-0.045922</td>\n",
       "      <td>-0.037261</td>\n",
       "      <td>-0.057934</td>\n",
       "      <td>-0.036676</td>\n",
       "      <td>-0.045970</td>\n",
       "      <td>-0.019217</td>\n",
       "      <td>0</td>\n",
       "    </tr>\n",
       "    <tr>\n",
       "      <th>3</th>\n",
       "      <td>0.010107</td>\n",
       "      <td>0.028703</td>\n",
       "      <td>-0.031847</td>\n",
       "      <td>-0.042281</td>\n",
       "      <td>0.062848</td>\n",
       "      <td>-0.029239</td>\n",
       "      <td>0.010851</td>\n",
       "      <td>0.019762</td>\n",
       "      <td>0.009444</td>\n",
       "      <td>0.031312</td>\n",
       "      <td>...</td>\n",
       "      <td>0.020512</td>\n",
       "      <td>0.035028</td>\n",
       "      <td>-0.004533</td>\n",
       "      <td>-0.044993</td>\n",
       "      <td>-0.049837</td>\n",
       "      <td>-0.053299</td>\n",
       "      <td>-0.055925</td>\n",
       "      <td>-0.010627</td>\n",
       "      <td>0.023868</td>\n",
       "      <td>1</td>\n",
       "    </tr>\n",
       "    <tr>\n",
       "      <th>4</th>\n",
       "      <td>0.003830</td>\n",
       "      <td>-0.030011</td>\n",
       "      <td>0.043521</td>\n",
       "      <td>-0.019920</td>\n",
       "      <td>-0.036928</td>\n",
       "      <td>-0.006020</td>\n",
       "      <td>-0.007284</td>\n",
       "      <td>-0.016183</td>\n",
       "      <td>-0.008275</td>\n",
       "      <td>0.007242</td>\n",
       "      <td>...</td>\n",
       "      <td>0.031610</td>\n",
       "      <td>-0.044113</td>\n",
       "      <td>-0.031392</td>\n",
       "      <td>0.020649</td>\n",
       "      <td>0.007634</td>\n",
       "      <td>0.008333</td>\n",
       "      <td>0.009560</td>\n",
       "      <td>-0.002700</td>\n",
       "      <td>0.064265</td>\n",
       "      <td>0</td>\n",
       "    </tr>\n",
       "  </tbody>\n",
       "</table>\n",
       "<p>5 rows × 1025 columns</p>\n",
       "</div>"
      ],
      "text/plain": [
       "          0         1         2         3         4         5         6   \n",
       "0  0.086905  0.064474 -0.012450 -0.037899  0.003578 -0.016869  0.031366  \\\n",
       "1  0.067527 -0.009051 -0.007344 -0.038439  0.023209  0.011579  0.001814   \n",
       "2  0.106294  0.020479  0.037305  0.009191  0.064401  0.007766  0.004668   \n",
       "3  0.010107  0.028703 -0.031847 -0.042281  0.062848 -0.029239  0.010851   \n",
       "4  0.003830 -0.030011  0.043521 -0.019920 -0.036928 -0.006020 -0.007284   \n",
       "\n",
       "          7         8         9  ...      1015      1016      1017      1018   \n",
       "0  0.044413 -0.022268 -0.013294  ...  0.014594  0.015101 -0.033381 -0.023159  \\\n",
       "1  0.032845  0.027436  0.008903  ... -0.005045  0.034608 -0.091185 -0.030919   \n",
       "2  0.011003  0.040737 -0.009711  ... -0.004814  0.022652  0.000608 -0.045922   \n",
       "3  0.019762  0.009444  0.031312  ...  0.020512  0.035028 -0.004533 -0.044993   \n",
       "4 -0.016183 -0.008275  0.007242  ...  0.031610 -0.044113 -0.031392  0.020649   \n",
       "\n",
       "       1019      1020      1021      1022      1023  Label  \n",
       "0 -0.003469 -0.073165 -0.049568  0.002033  0.016894      0  \n",
       "1 -0.043191 -0.052509 -0.061765  0.025321  0.001051      0  \n",
       "2 -0.037261 -0.057934 -0.036676 -0.045970 -0.019217      0  \n",
       "3 -0.049837 -0.053299 -0.055925 -0.010627  0.023868      1  \n",
       "4  0.007634  0.008333  0.009560 -0.002700  0.064265      0  \n",
       "\n",
       "[5 rows x 1025 columns]"
      ]
     },
     "execution_count": 35,
     "metadata": {},
     "output_type": "execute_result"
    }
   ],
   "source": [
    "train_df.head()"
   ]
  },
  {
   "cell_type": "code",
   "execution_count": 31,
   "metadata": {},
   "outputs": [],
   "source": [
    "train_df_processed = pd.read_csv(\"Dataset/processed_for_bert_train.csv\")\n",
    "test_df_processed = pd.read_csv(\"Dataset/processed_for_bert_test.csv\")"
   ]
  },
  {
   "cell_type": "code",
   "execution_count": 32,
   "metadata": {},
   "outputs": [
    {
     "name": "stdout",
     "output_type": "stream",
     "text": [
      "Number of overlapping sequences: 0\n"
     ]
    }
   ],
   "source": [
    "overlap = set(train_df_processed[\"Sequence\"]).intersection(set(test_df_processed[\"Sequence\"]))\n",
    "print(f\"Number of overlapping sequences: {len(overlap)}\")"
   ]
  },
  {
   "cell_type": "code",
   "execution_count": 33,
   "metadata": {},
   "outputs": [
    {
     "data": {
      "text/plain": [
       "Index(['Protein_ID', 'Sequence', 'Label', 'Tokenized_Sequence'], dtype='object')"
      ]
     },
     "execution_count": 33,
     "metadata": {},
     "output_type": "execute_result"
    }
   ],
   "source": [
    "train_df_processed.columns"
   ]
  },
  {
   "cell_type": "code",
   "execution_count": 21,
   "metadata": {},
   "outputs": [
    {
     "name": "stdout",
     "output_type": "stream",
     "text": [
      "Logistic Regression model trained\n"
     ]
    },
    {
     "name": "stderr",
     "output_type": "stream",
     "text": [
      "/opt/homebrew/Caskroom/miniconda/base/envs/protein_allergy/lib/python3.9/site-packages/sklearn/linear_model/_logistic.py:458: ConvergenceWarning: lbfgs failed to converge (status=1):\n",
      "STOP: TOTAL NO. of ITERATIONS REACHED LIMIT.\n",
      "\n",
      "Increase the number of iterations (max_iter) or scale the data as shown in:\n",
      "    https://scikit-learn.org/stable/modules/preprocessing.html\n",
      "Please also refer to the documentation for alternative solver options:\n",
      "    https://scikit-learn.org/stable/modules/linear_model.html#logistic-regression\n",
      "  n_iter_i = _check_optimize_result(\n"
     ]
    }
   ],
   "source": [
    "import numpy as np\n",
    "import pandas as pd\n",
    "from sklearn.preprocessing import StandardScaler\n",
    "from sklearn.linear_model import LogisticRegression\n",
    "from sklearn.metrics import accuracy_score, classification_report\n",
    "\n",
    "train_embeddings = np.load(\"Dataset/protbert_train_embeddings.npy\")\n",
    "\n",
    "train_df = pd.read_csv(\"Dataset/protbert_train_embeddings.csv\")\n",
    "train_labels = train_df[\"Label\"].values  # Extract labels\n",
    "\n",
    "#scaler = StandardScaler()\n",
    "#train_embeddings = scaler.fit_transform(train_embeddings)\n",
    "\n",
    "log_reg = LogisticRegression()\n",
    "log_reg.fit(train_embeddings, train_labels)\n",
    "\n",
    "print(\"Logistic Regression model trained\")"
   ]
  },
  {
   "cell_type": "code",
   "execution_count": 22,
   "metadata": {},
   "outputs": [
    {
     "name": "stdout",
     "output_type": "stream",
     "text": [
      "Test Accuracy: 0.9294\n",
      "              precision    recall  f1-score   support\n",
      "\n",
      "           0       0.94      0.92      0.93      2840\n",
      "           1       0.92      0.94      0.93      2840\n",
      "\n",
      "    accuracy                           0.93      5680\n",
      "   macro avg       0.93      0.93      0.93      5680\n",
      "weighted avg       0.93      0.93      0.93      5680\n",
      "\n"
     ]
    }
   ],
   "source": [
    "test_embeddings = np.load(\"Dataset/protbert_test_embeddings.npy\")\n",
    "\n",
    "test_embeddings = scaler.transform(test_embeddings) \n",
    "\n",
    "test_df = pd.read_csv(\"Dataset/protbert_train_embeddings.csv\")  \n",
    "test_labels = test_df[\"Label\"].values  \n",
    "\n",
    "test_predictions = log_reg.predict(test_embeddings)\n",
    "\n",
    "accuracy = accuracy_score(test_labels, test_predictions)\n",
    "print(f\"Test Accuracy: {accuracy:.4f}\")\n",
    "\n",
    "print(classification_report(test_labels, test_predictions))"
   ]
  },
  {
   "cell_type": "code",
   "execution_count": 24,
   "metadata": {},
   "outputs": [
    {
     "name": "stderr",
     "output_type": "stream",
     "text": [
      "/opt/homebrew/Caskroom/miniconda/base/envs/protein_allergy/lib/python3.9/site-packages/sklearn/linear_model/_logistic.py:458: ConvergenceWarning: lbfgs failed to converge (status=1):\n",
      "STOP: TOTAL NO. of ITERATIONS REACHED LIMIT.\n",
      "\n",
      "Increase the number of iterations (max_iter) or scale the data as shown in:\n",
      "    https://scikit-learn.org/stable/modules/preprocessing.html\n",
      "Please also refer to the documentation for alternative solver options:\n",
      "    https://scikit-learn.org/stable/modules/linear_model.html#logistic-regression\n",
      "  n_iter_i = _check_optimize_result(\n"
     ]
    },
    {
     "name": "stdout",
     "output_type": "stream",
     "text": [
      "Logistic Regression Accuracy: 0.9306\n",
      "              precision    recall  f1-score   support\n",
      "\n",
      "           0       0.94      0.93      0.93      2840\n",
      "           1       0.93      0.94      0.93      2840\n",
      "\n",
      "    accuracy                           0.93      5680\n",
      "   macro avg       0.93      0.93      0.93      5680\n",
      "weighted avg       0.93      0.93      0.93      5680\n",
      "\n",
      "--------------------------------------------------\n",
      "SVM Accuracy: 0.9275\n",
      "              precision    recall  f1-score   support\n",
      "\n",
      "           0       0.94      0.92      0.93      2840\n",
      "           1       0.92      0.94      0.93      2840\n",
      "\n",
      "    accuracy                           0.93      5680\n",
      "   macro avg       0.93      0.93      0.93      5680\n",
      "weighted avg       0.93      0.93      0.93      5680\n",
      "\n",
      "--------------------------------------------------\n",
      "Random Forest Accuracy: 1.0000\n",
      "              precision    recall  f1-score   support\n",
      "\n",
      "           0       1.00      1.00      1.00      2840\n",
      "           1       1.00      1.00      1.00      2840\n",
      "\n",
      "    accuracy                           1.00      5680\n",
      "   macro avg       1.00      1.00      1.00      5680\n",
      "weighted avg       1.00      1.00      1.00      5680\n",
      "\n",
      "--------------------------------------------------\n"
     ]
    },
    {
     "name": "stderr",
     "output_type": "stream",
     "text": [
      "/opt/homebrew/Caskroom/miniconda/base/envs/protein_allergy/lib/python3.9/site-packages/xgboost/core.py:158: UserWarning: [17:27:05] WARNING: /Users/runner/work/xgboost/xgboost/src/learner.cc:740: \n",
      "Parameters: { \"use_label_encoder\" } are not used.\n",
      "\n",
      "  warnings.warn(smsg, UserWarning)\n"
     ]
    },
    {
     "name": "stdout",
     "output_type": "stream",
     "text": [
      "XGBoost Accuracy: 1.0000\n",
      "              precision    recall  f1-score   support\n",
      "\n",
      "           0       1.00      1.00      1.00      2840\n",
      "           1       1.00      1.00      1.00      2840\n",
      "\n",
      "    accuracy                           1.00      5680\n",
      "   macro avg       1.00      1.00      1.00      5680\n",
      "weighted avg       1.00      1.00      1.00      5680\n",
      "\n",
      "--------------------------------------------------\n",
      "KNN Accuracy: 0.9426\n",
      "              precision    recall  f1-score   support\n",
      "\n",
      "           0       0.96      0.93      0.94      2840\n",
      "           1       0.93      0.96      0.94      2840\n",
      "\n",
      "    accuracy                           0.94      5680\n",
      "   macro avg       0.94      0.94      0.94      5680\n",
      "weighted avg       0.94      0.94      0.94      5680\n",
      "\n",
      "--------------------------------------------------\n",
      "Naive Bayes Accuracy: 0.7938\n",
      "              precision    recall  f1-score   support\n",
      "\n",
      "           0       0.86      0.70      0.77      2840\n",
      "           1       0.75      0.89      0.81      2840\n",
      "\n",
      "    accuracy                           0.79      5680\n",
      "   macro avg       0.81      0.79      0.79      5680\n",
      "weighted avg       0.81      0.79      0.79      5680\n",
      "\n",
      "--------------------------------------------------\n"
     ]
    }
   ],
   "source": [
    "import numpy as np\n",
    "import pandas as pd\n",
    "from sklearn.preprocessing import StandardScaler\n",
    "from sklearn.model_selection import train_test_split\n",
    "from sklearn.linear_model import LogisticRegression\n",
    "from sklearn.svm import SVC\n",
    "from sklearn.ensemble import RandomForestClassifier\n",
    "from xgboost import XGBClassifier\n",
    "from sklearn.neighbors import KNeighborsClassifier\n",
    "from sklearn.naive_bayes import GaussianNB\n",
    "from sklearn.metrics import accuracy_score, classification_report\n",
    "\n",
    "train_embeddings = np.load(\"Dataset/protbert_train_embeddings.npy\")\n",
    "test_embeddings = np.load(\"Dataset/protbert_test_embeddings.npy\")\n",
    "\n",
    "train_df = pd.read_csv(\"Dataset/protbert_train_embeddings.csv\")\n",
    "test_df = pd.read_csv(\"Dataset/protbert_train_embeddings.csv\")  # Adjust if needed\n",
    "\n",
    "train_labels = train_df[\"Label\"].values\n",
    "test_labels = test_df[\"Label\"].values\n",
    "\n",
    "\n",
    "models = {\n",
    "    \"Logistic Regression\": LogisticRegression(),\n",
    "    \"SVM\": SVC(),\n",
    "    \"Random Forest\": RandomForestClassifier(n_estimators=100),\n",
    "    \"XGBoost\": XGBClassifier(use_label_encoder=False, eval_metric=\"logloss\"),\n",
    "    \"KNN\": KNeighborsClassifier(n_neighbors=5),\n",
    "    \"Naive Bayes\": GaussianNB()\n",
    "}\n",
    "\n",
    "for name, model in models.items():\n",
    "    model.fit(train_embeddings, train_labels)\n",
    "    predictions = model.predict(test_embeddings)\n",
    "    accuracy = accuracy_score(test_labels, predictions)\n",
    "    print(f\"{name} Accuracy: {accuracy:.4f}\")\n",
    "    print(classification_report(test_labels, predictions))\n",
    "    print(\"-\" * 50)"
   ]
  },
  {
   "cell_type": "code",
   "execution_count": null,
   "metadata": {},
   "outputs": [],
   "source": []
  }
 ],
 "metadata": {
  "kernelspec": {
   "display_name": "protein_allergy",
   "language": "python",
   "name": "python3"
  },
  "language_info": {
   "codemirror_mode": {
    "name": "ipython",
    "version": 3
   },
   "file_extension": ".py",
   "mimetype": "text/x-python",
   "name": "python",
   "nbconvert_exporter": "python",
   "pygments_lexer": "ipython3",
   "version": "3.9.7"
  }
 },
 "nbformat": 4,
 "nbformat_minor": 2
}
